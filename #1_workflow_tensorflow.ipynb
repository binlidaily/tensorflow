{
 "cells": [
  {
   "cell_type": "code",
   "execution_count": 2,
   "metadata": {},
   "outputs": [
    {
     "name": "stdout",
     "output_type": "stream",
     "text": [
      "Extracting data/train-images-idx3-ubyte.gz\n",
      "Extracting data/train-labels-idx1-ubyte.gz\n",
      "Extracting data/t10k-images-idx3-ubyte.gz\n",
      "Extracting data/t10k-labels-idx1-ubyte.gz\n"
     ]
    }
   ],
   "source": [
    "from __future__ import absolute_import\n",
    "from __future__ import division\n",
    "from __future__ import print_function\n",
    "\n",
    "# Import data\n",
    "from tensorflow.examples.tutorials.mnist import input_data\n",
    "\n",
    "import tensorflow as tf\n",
    "# import keras\n",
    "# mnist = keras.datasets.mnist\n",
    "import ssl\n",
    "ssl._create_default_https_context = ssl._create_unverified_context\n",
    "\n",
    "mnist = input_data.read_data_sets('data/', one_hot=True)   # 读取数据集"
   ]
  },
  {
   "cell_type": "code",
   "execution_count": 3,
   "metadata": {
    "collapsed": true
   },
   "outputs": [],
   "source": [
    "# 建立模型：输入、输出和模型参数（图结构）\n",
    "x = tf.placeholder(tf.float32, [None, 784]) # 输入占位符\n",
    "y = tf.placeholder(tf.float32, [None, 10])  # 输出占位符（预期输出）\n",
    "W = tf.Variable(tf.zeros([784, 10]))        # 变量先要初始化，因为训练时要变化\n",
    "b = tf.Variable(tf.zeros([10]))\n",
    "pred = tf.nn.softmax(tf.matmul(x, W) + b)      # a表示模型的实际输出\n",
    "\n",
    "# 定义损失函数和训练方法\n",
    "cross_entropy = tf.reduce_mean(-tf.reduce_sum( y * tf.log(pred), reduction_indices=[1])) # 损失函数为交叉熵，与预测值和真实值有关\n",
    "optimizer = tf.train.GradientDescentOptimizer(0.5)    # 梯度下降法，学习速率为0.5\n",
    "train = optimizer.minimize(cross_entropy)"
   ]
  },
  {
   "cell_type": "code",
   "execution_count": 4,
   "metadata": {
    "collapsed": true
   },
   "outputs": [],
   "source": [
    "# 定义预测方式\n",
    "correct_prediction = tf.equal(tf.argmax(pred, 1), tf.argmax(y, 1))\n",
    "accuracy = tf.reduce_mean(tf.cast(correct_prediction, tf.float32))"
   ]
  },
  {
   "cell_type": "code",
   "execution_count": 6,
   "metadata": {},
   "outputs": [
    {
     "name": "stdout",
     "output_type": "stream",
     "text": [
      "WARNING:tensorflow:From /home/binli/anaconda2/envs/py2/lib/python2.7/site-packages/tensorflow/python/util/tf_should_use.py:175: initialize_all_variables (from tensorflow.python.ops.variables) is deprecated and will be removed after 2017-03-02.\n",
      "Instructions for updating:\n",
      "Use `tf.global_variables_initializer` instead.\n",
      "test accuracy 0.9199\n"
     ]
    }
   ],
   "source": [
    "# 实际训练模型\n",
    "sess = tf.InteractiveSession()             # 建立交互式会话\n",
    "tf.initialize_all_variables().run()        # 所有变量初始化\n",
    "\n",
    "for i in xrange(1000):\n",
    "    batch_xs, batch_ys = mnist.train.next_batch(100)   # 获得一批 100 个数据样本\n",
    "    train.run({x: batch_xs, y: batch_ys})  # 给训练模型提供输入\n",
    "\n",
    "# precision = sess.run(accuracy, feed_dict={x: mnist.test.images, y: mnist.test.labels})\n",
    "# print(precision)\n",
    "\n",
    "print(\"test accuracy %g\" % sess.run(accuracy, feed_dict={x: mnist.test.images, y: mnist.test.labels}))"
   ]
  },
  {
   "cell_type": "code",
   "execution_count": null,
   "metadata": {
    "collapsed": true
   },
   "outputs": [],
   "source": []
  },
  {
   "cell_type": "code",
   "execution_count": null,
   "metadata": {
    "collapsed": true
   },
   "outputs": [],
   "source": []
  }
 ],
 "metadata": {
  "kernelspec": {
   "display_name": "Python 2",
   "language": "python",
   "name": "python2"
  },
  "language_info": {
   "codemirror_mode": {
    "name": "ipython",
    "version": 2
   },
   "file_extension": ".py",
   "mimetype": "text/x-python",
   "name": "python",
   "nbconvert_exporter": "python",
   "pygments_lexer": "ipython2",
   "version": "2.7.15"
  }
 },
 "nbformat": 4,
 "nbformat_minor": 2
}
